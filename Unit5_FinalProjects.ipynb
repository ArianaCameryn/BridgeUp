{
 "cells": [
  {
   "cell_type": "markdown",
   "metadata": {
    "deletable": true,
    "editable": true
   },
   "source": [
    "# Final Projects: Calculating evolutionary distance\n",
    "\n",
    "In this notebook you will compare the amino acid sequence of hemoglobin alpha from 3 different species to find out which two are most closely related."
   ]
  },
  {
   "cell_type": "code",
   "execution_count": 1,
   "metadata": {
    "collapsed": false,
    "deletable": true,
    "editable": true
   },
   "outputs": [],
   "source": [
    "boar = open(\"1_boar_CSN2_DNA.txt\").read()\n",
    "hippo = open(\"1_hippo_CSN2_DNA.txt\").read()\n",
    "whale = open(\"1_minke_whale_CSN2_DNA.txt\").read()"
   ]
  },
  {
   "cell_type": "markdown",
   "metadata": {
    "deletable": true,
    "editable": true
   },
   "source": [
    "You'll need to copy and paste the function from last class that finds the number of differences in two sequences:"
   ]
  },
  {
   "cell_type": "code",
   "execution_count": 2,
   "metadata": {
    "collapsed": true,
    "deletable": true,
    "editable": true
   },
   "outputs": [],
   "source": [
    "def Compare(seq1, seq2):\n",
    "    counter = 0\n",
    "    for i, AA in enumerate(seq1):\n",
    "        if seq2[i] != AA:\n",
    "            counter += 1\n",
    "    return counter"
   ]
  },
  {
   "cell_type": "markdown",
   "metadata": {
    "deletable": true,
    "editable": true
   },
   "source": [
    "In order to compare the different amino acid sequences, we need to open the files and read the sequences into new variables:"
   ]
  },
  {
   "cell_type": "code",
   "execution_count": 3,
   "metadata": {
    "collapsed": true,
    "deletable": true,
    "editable": true
   },
   "outputs": [],
   "source": [
    "boar = open(\"1_boar_CSN2_DNA.txt\").read()\n",
    "hippo = open(\"1_hippo_CSN2_DNA.txt\").read()\n",
    "whale = open(\"1_minke_whale_CSN2_DNA.txt\").read()"
   ]
  },
  {
   "cell_type": "markdown",
   "metadata": {
    "deletable": true,
    "editable": true
   },
   "source": [
    "Decide as a group whether you want to compare DNA or protein sequences for your species. What are the pros and cons of each?"
   ]
  },
  {
   "cell_type": "markdown",
   "metadata": {
    "deletable": true,
    "editable": true
   },
   "source": [
    "Now call the number of differences function 3 times to compare all three of your species' sequences."
   ]
  },
  {
   "cell_type": "code",
   "execution_count": 4,
   "metadata": {
    "collapsed": false,
    "deletable": true,
    "editable": true
   },
   "outputs": [
    {
     "name": "stdout",
     "output_type": "stream",
     "text": [
      "B & H\n",
      "202\n",
      "B & W\n",
      "204\n",
      "W & H\n",
      "66\n"
     ]
    }
   ],
   "source": [
    "print(\"B & H\")\n",
    "print(Compare(boar, hippo))\n",
    "print(\"B & W\")\n",
    "print(Compare(boar, whale))\n",
    "print(\"W & H\")\n",
    "print(Compare(whale, hippo))"
   ]
  },
  {
   "cell_type": "markdown",
   "metadata": {
    "deletable": true,
    "editable": true
   },
   "source": [
    "What can you conclude based on the number of differences between each pair of species?\n",
    "\n",
    "Next, create a function that returns the percent difference between sequences and call it for your three comparisons:"
   ]
  },
  {
   "cell_type": "code",
   "execution_count": 5,
   "metadata": {
    "collapsed": true,
    "deletable": true,
    "editable": true
   },
   "outputs": [],
   "source": [
    "DNAstrand = 282\n",
    "def p_difference(org_1, org_2):\n",
    "    percent = 0.0\n",
    "    for i, DNA in enumerate(org_1):\n",
    "        if org_2[i] != DNA:\n",
    "            percent += 1.0 / DNAstrand\n",
    "    return percent * 100    "
   ]
  },
  {
   "cell_type": "code",
   "execution_count": 6,
   "metadata": {
    "collapsed": false,
    "deletable": true,
    "editable": true
   },
   "outputs": [],
   "source": [
    "borhip = p_difference(boar, hippo)\n",
    "borwha = p_difference(boar, whale)\n",
    "whahip = p_difference(whale, hippo)"
   ]
  },
  {
   "cell_type": "markdown",
   "metadata": {
    "deletable": true,
    "editable": true
   },
   "source": [
    "Let's visualize these results! Choose a graph type that you think will communicate your conclusions effectively and create it using matplotlib:"
   ]
  },
  {
   "cell_type": "code",
   "execution_count": 7,
   "metadata": {
    "collapsed": false,
    "deletable": true,
    "editable": true
   },
   "outputs": [],
   "source": [
    "import matplotlib.pyplot as plt\n",
    "from matplotlib import cm"
   ]
  },
  {
   "cell_type": "code",
   "execution_count": 8,
   "metadata": {
    "collapsed": false,
    "deletable": true,
    "editable": true
   },
   "outputs": [
    {
     "data": {
      "image/png": "[encoded data removed]",
      "text/plain": [
       "<matplotlib.figure.Figure at 0x1189ce2b0>"
      ]
     },
     "metadata": {},
     "output_type": "display_data"
    }
   ],
   "source": [
    "h_b = [72, 28]\n",
    "colors = [\"hotpink\", \"purple\"]\n",
    "explode = [0.05, 0.05]\n",
    "plt.pie(h_b, labels=[\"Different DNA\",\"Same DNA\"], autopct='%.0f%%', colors = colors, explode = explode, shadow = True)\n",
    "plt.suptitle(\"DNA of Hippo and Boar\")\n",
    "plt.show()"
   ]
  },
  {
   "cell_type": "code",
   "execution_count": 9,
   "metadata": {
    "collapsed": false,
    "deletable": true,
    "editable": true
   },
   "outputs": [
    {
     "data": {
      "image/png": "[encoded data removed]",
      "text/plain": [
       "<matplotlib.figure.Figure at 0x11bd3ddd8>"
      ]
     },
     "metadata": {},
     "output_type": "display_data"
    }
   ],
   "source": [
    "h_w = [77, 23]\n",
    "colors = [\"yellow\", \"orange\"]\n",
    "explode = [0.05, 0.05]\n",
    "plt.pie(h_b, labels=[\"Different DNA\",\"Same DNA\"], autopct='%.0f%%', colors = colors, explode = explode, shadow = True)\n",
    "plt.suptitle(\"DNA of Hippo and Whale\")\n",
    "plt.show()"
   ]
  },
  {
   "cell_type": "code",
   "execution_count": 10,
   "metadata": {
    "collapsed": false,
    "deletable": true,
    "editable": true
   },
   "outputs": [
    {
     "data": {
      "image/png": "[encoded data removed]",
      "text/plain": [
       "<matplotlib.figure.Figure at 0x11be42da0>"
      ]
     },
     "metadata": {},
     "output_type": "display_data"
    }
   ],
   "source": [
    "w_b = [72, 28]\n",
    "colors = [\"green\", \"royalblue\"]\n",
    "explode = [0.05, 0.05]\n",
    "plt.pie(h_b, labels=[\"Different DNA\",\"Same DNA\"], autopct='%.0f%%', colors = colors, explode = explode, shadow = True)\n",
    "plt.suptitle(\"DNA of Whale and Boar\")\n",
    "plt.show()"
   ]
  },
  {
   "cell_type": "code",
   "execution_count": 11,
   "metadata": {
    "collapsed": true,
    "deletable": true,
    "editable": true
   },
   "outputs": [],
   "source": [
    "carp = open(\"Carp_hemoglobin.txt\").read()\n",
    "chicken = open(\"Chicken_hemoglobin.txt\").read()\n",
    "chimp = open(\"Chimp_hemoglobin.txt\").read()\n",
    "dog = open(\"Dog_hemoglobin.txt\").read()\n",
    "eel = open(\"Eel_hemoglobin.txt\").read()\n",
    "elephant = open(\"Eel_hemoglobin.txt\").read()\n",
    "frog = open(\"Frog_hemoglobin.txt\").read()\n",
    "gorilla = open(\"Gorilla_hemoglobin.txt\").read()\n",
    "macaque = open(\"Macaque_hemoglobin.txt\").read()\n",
    "mouse = open(\"Mouse_hemoglobin.txt\").read()\n",
    "orangutan = open(\"Orangutan_hemoglobin.txt\").read()\n",
    "pig = open(\"Pig_hemoglobin.txt\").read()\n",
    "human = open(\"Human_hemoglobin.txt\").read()"
   ]
  },
  {
   "cell_type": "code",
   "execution_count": 12,
   "metadata": {
    "collapsed": false,
    "deletable": true,
    "editable": true
   },
   "outputs": [
    {
     "data": {
      "text/plain": [
       "13"
      ]
     },
     "execution_count": 12,
     "metadata": {},
     "output_type": "execute_result"
    }
   ],
   "source": [
    "closer = [human, chimp, gorilla, macaque, orangutan, elephant, dog, chicken, mouse, pig, carp, eel, frog,]\n",
    "len(closer)"
   ]
  },
  {
   "cell_type": "code",
   "execution_count": 13,
   "metadata": {
    "collapsed": false,
    "deletable": true,
    "editable": true
   },
   "outputs": [
    {
     "name": "stdout",
     "output_type": "stream",
     "text": [
      "chimp\n",
      "0\n",
      "gorilla\n",
      "1\n",
      "macaque\n",
      "5\n",
      "orangutan\n",
      "3\n",
      "elephant\n",
      "113\n",
      "dog\n",
      "23\n",
      "chicken\n",
      "42\n",
      "mouse\n",
      "20\n",
      "pig\n",
      "22\n",
      "carp\n",
      "111\n",
      "eel\n",
      "113\n",
      "frog\n",
      "60\n"
     ]
    }
   ],
   "source": [
    "print(\"chimp\")\n",
    "print(Compare(human, chimp))\n",
    "print(\"gorilla\")\n",
    "print(Compare(human, gorilla))\n",
    "print(\"macaque\")\n",
    "print(Compare(human, macaque))\n",
    "print(\"orangutan\")\n",
    "print(Compare(human, orangutan))\n",
    "print(\"elephant\")\n",
    "print(Compare(human, elephant))\n",
    "print(\"dog\")\n",
    "print(Compare(human, dog))\n",
    "print(\"chicken\")\n",
    "print(Compare(human, chicken))\n",
    "print(\"mouse\")\n",
    "print(Compare(human, mouse))\n",
    "print(\"pig\")\n",
    "print(Compare(human, pig))\n",
    "print(\"carp\")\n",
    "print(Compare(human, carp))\n",
    "print(\"eel\")\n",
    "print(Compare(human, eel))\n",
    "print(\"frog\")\n",
    "print(Compare(human, frog))"
   ]
  },
  {
   "cell_type": "code",
   "execution_count": 14,
   "metadata": {
    "collapsed": false,
    "deletable": true,
    "editable": true
   },
   "outputs": [
    {
     "data": {
      "image/png": "[encoded data removed]",
      "text/plain": [
       "<matplotlib.figure.Figure at 0x1189aceb8>"
      ]
     },
     "metadata": {},
     "output_type": "display_data"
    }
   ],
   "source": [
    "plt.clf()\n",
    "plt.bar(1, borhip, color = \"red\")\n",
    "plt.bar(2, borwha, color = \"purple\")\n",
    "plt.bar(3, whahip, color = \"hotpink\")\n",
    "plt.xticks([1,2,3],(\"Hippo & Boar\",\"Boar & Whale\", \"Whale & Hippo\"))\n",
    "plt.title(\"% Difference\")\n",
    "plt.ylabel(\"%\")\n",
    "plt.savefig(\"%DiffBarGraph\")\n",
    "plt.show()"
   ]
  },
  {
   "cell_type": "code",
   "execution_count": 16,
   "metadata": {
    "collapsed": false,
    "deletable": true,
    "editable": true
   },
   "outputs": [
    {
     "data": {
      "image/png": "[encoded data removed]",
      "text/plain": [
       "<matplotlib.figure.Figure at 0x11bede9e8>"
      ]
     },
     "metadata": {},
     "output_type": "display_data"
    }
   ],
   "source": [
    "\n",
    "plt.bar(2, Compare(human, gorilla), color = \"purple\")\n",
    "plt.bar(4, Compare(human, elephant), color = \"hotpink\")\n",
    "plt.bar(6, Compare(human, eel), color = \"green\")\n",
    "plt.bar(8, Compare(human, mouse), color = \"yellow\")\n",
    "plt.bar(10, Compare(human, macaque), color = \"orange\")\n",
    "plt.bar(12, Compare(human, chicken), color = \"teal\")\n",
    "plt.bar(14, Compare(human, orangutan), color = \"blue\")\n",
    "plt.bar(16, Compare(human, carp), color = \"skyblue\")\n",
    "plt.bar(18, Compare(human, pig), color = \"lavender\")\n",
    "plt.bar(20, Compare(human, chimp), color = \"darkgreen\")\n",
    "plt.bar(22, Compare(human, frog), color = \"black\")\n",
    "plt.bar(24, Compare(human, dog), color = \"grey\")\n",
    "plt.xticks([2,4,6,8,10,12,14,16,18,20,22,24],(\"gorilla\", \"elephant\", \"eel\", \"mouse\", \"macaque\", \"chicken\", \"orangutan\", \"carp\", \"pig\", \"chimp\", \"frog\"))\n",
    "plt.title(\"% Difference\")\n",
    "plt.ylabel(\"%\")\n",
    "plt.savefig(\"%DiffBarGraph\")\n",
    "plt.show()"
   ]
  },
  {
   "cell_type": "code",
   "execution_count": null,
   "metadata": {
    "collapsed": true,
    "deletable": true,
    "editable": true
   },
   "outputs": [],
   "source": []
  }
 ],
 "metadata": {
  "kernelspec": {
   "display_name": "Python 3",
   "language": "python",
   "name": "python3"
  },
  "language_info": {
   "codemirror_mode": {
    "name": "ipython",
    "version": 3
   },
   "file_extension": ".py",
   "mimetype": "text/x-python",
   "name": "python",
   "nbconvert_exporter": "python",
   "pygments_lexer": "ipython3",
   "version": "3.5.2"
  }
 },
 "nbformat": 4,
 "nbformat_minor": 2
}
