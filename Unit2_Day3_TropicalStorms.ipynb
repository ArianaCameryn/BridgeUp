{
 "cells": [
  {
   "cell_type": "markdown",
   "metadata": {
    "deletable": true,
    "editable": true
   },
   "source": [
    "# Tropical Storms: Practice with matplotlib and pandas\n",
    "\n",
    "In this notebook you'll recreate graphs from the EPA about tropical storms. Work with your partner to take turns writing the code.\n",
    "\n",
    "**Reminder: To run the code in a Jupyter Notebook cell, click inside the cell and press \"shift\" and \"return\" on your keyboard at the same time.**"
   ]
  },
  {
   "cell_type": "markdown",
   "metadata": {
    "deletable": true,
    "editable": true
   },
   "source": [
    "### Graph 1: Cyclone energy over time\n",
    "\n",
    "This dataset has annual records of Accumulated Cyclone Energy (ACE) Index values, which account for cyclone strength, duration, and frequency."
   ]
  },
  {
   "cell_type": "markdown",
   "metadata": {
    "deletable": true,
    "editable": true
   },
   "source": [
    "Partner 1: Import pandas and matplotlib.pyplot"
   ]
  },
  {
   "cell_type": "code",
   "execution_count": 1,
   "metadata": {
    "collapsed": true,
    "deletable": true,
    "editable": true
   },
   "outputs": [],
   "source": [
    "import pandas as pd\n",
    "import matplotlib.pyplot as plt"
   ]
  },
  {
   "cell_type": "markdown",
   "metadata": {
    "deletable": true,
    "editable": true
   },
   "source": [
    "Partner 2: Import the data for the first graph from the EPA and create a pandas dataframe. "
   ]
  },
  {
   "cell_type": "code",
   "execution_count": 8,
   "metadata": {
    "collapsed": false,
    "deletable": true,
    "editable": true
   },
   "outputs": [],
   "source": [
    "df = pd.read_csv(\"cyclones_fig-2.csv\")"
   ]
  },
  {
   "cell_type": "markdown",
   "metadata": {
    "deletable": true,
    "editable": true
   },
   "source": [
    "Partner 1: Print out the \"head\" of this dataframe to see what the data looks like:"
   ]
  },
  {
   "cell_type": "code",
   "execution_count": 9,
   "metadata": {
    "collapsed": false,
    "deletable": true,
    "editable": true
   },
   "outputs": [
    {
     "data": {
      "text/html": [
       "<div>\n",
       "<style>\n",
       "    .dataframe thead tr:only-child th {\n",
       "        text-align: right;\n",
       "    }\n",
       "\n",
       "    .dataframe thead th {\n",
       "        text-align: left;\n",
       "    }\n",
       "\n",
       "    .dataframe tbody tr th {\n",
       "        vertical-align: top;\n",
       "    }\n",
       "</style>\n",
       "<table border=\"1\" class=\"dataframe\">\n",
       "  <thead>\n",
       "    <tr style=\"text-align: right;\">\n",
       "      <th></th>\n",
       "      <th>Year</th>\n",
       "      <th>ACE Index (Percent of median)</th>\n",
       "    </tr>\n",
       "  </thead>\n",
       "  <tbody>\n",
       "    <tr>\n",
       "      <th>0</th>\n",
       "      <td>1950</td>\n",
       "      <td>228.108108</td>\n",
       "    </tr>\n",
       "    <tr>\n",
       "      <th>1</th>\n",
       "      <td>1951</td>\n",
       "      <td>136.216216</td>\n",
       "    </tr>\n",
       "    <tr>\n",
       "      <th>2</th>\n",
       "      <td>1952</td>\n",
       "      <td>74.594595</td>\n",
       "    </tr>\n",
       "    <tr>\n",
       "      <th>3</th>\n",
       "      <td>1953</td>\n",
       "      <td>107.027027</td>\n",
       "    </tr>\n",
       "    <tr>\n",
       "      <th>4</th>\n",
       "      <td>1954</td>\n",
       "      <td>120.000000</td>\n",
       "    </tr>\n",
       "    <tr>\n",
       "      <th>5</th>\n",
       "      <td>1955</td>\n",
       "      <td>170.810811</td>\n",
       "    </tr>\n",
       "    <tr>\n",
       "      <th>6</th>\n",
       "      <td>1956</td>\n",
       "      <td>58.378378</td>\n",
       "    </tr>\n",
       "    <tr>\n",
       "      <th>7</th>\n",
       "      <td>1957</td>\n",
       "      <td>90.810811</td>\n",
       "    </tr>\n",
       "    <tr>\n",
       "      <th>8</th>\n",
       "      <td>1958</td>\n",
       "      <td>130.810811</td>\n",
       "    </tr>\n",
       "    <tr>\n",
       "      <th>9</th>\n",
       "      <td>1959</td>\n",
       "      <td>83.243243</td>\n",
       "    </tr>\n",
       "  </tbody>\n",
       "</table>\n",
       "</div>"
      ],
      "text/plain": [
       "   Year  ACE Index (Percent of median)\n",
       "0  1950                     228.108108\n",
       "1  1951                     136.216216\n",
       "2  1952                      74.594595\n",
       "3  1953                     107.027027\n",
       "4  1954                     120.000000\n",
       "5  1955                     170.810811\n",
       "6  1956                      58.378378\n",
       "7  1957                      90.810811\n",
       "8  1958                     130.810811\n",
       "9  1959                      83.243243"
      ]
     },
     "execution_count": 9,
     "metadata": {},
     "output_type": "execute_result"
    }
   ],
   "source": [
    "(df.head(10))"
   ]
  },
  {
   "cell_type": "markdown",
   "metadata": {
    "deletable": true,
    "editable": true
   },
   "source": [
    "Partner 2: Isolate each data column using a pandas index and assign them to variables:"
   ]
  },
  {
   "cell_type": "code",
   "execution_count": 15,
   "metadata": {
    "collapsed": false,
    "deletable": true,
    "editable": true
   },
   "outputs": [],
   "source": [
    "year = df[\"Year\"]\n",
    "ace_index = df[\"ACE Index (Percent of median)\"]"
   ]
  },
  {
   "cell_type": "markdown",
   "metadata": {
    "deletable": true,
    "editable": true
   },
   "source": [
    "Partner 1: Print out the \"head\" of these columns:"
   ]
  },
  {
   "cell_type": "code",
   "execution_count": 18,
   "metadata": {
    "collapsed": false,
    "deletable": true,
    "editable": true
   },
   "outputs": [
    {
     "name": "stdout",
     "output_type": "stream",
     "text": [
      "0    1950\n",
      "1    1951\n",
      "2    1952\n",
      "3    1953\n",
      "4    1954\n",
      "Name: Year, dtype: int64\n",
      "0    228.108108\n",
      "1    136.216216\n",
      "2     74.594595\n",
      "3    107.027027\n",
      "4    120.000000\n",
      "Name: ACE Index (Percent of median), dtype: float64\n"
     ]
    }
   ],
   "source": [
    "print((year.head)())\n",
    "print((ace_index.head)())"
   ]
  },
  {
   "cell_type": "markdown",
   "metadata": {
    "deletable": true,
    "editable": true
   },
   "source": [
    "Partner 2: Use the matplotlib plt.bar() function to create a bar graph with this data:"
   ]
  },
  {
   "cell_type": "code",
   "execution_count": 19,
   "metadata": {
    "collapsed": false,
    "deletable": true,
    "editable": true
   },
   "outputs": [
    {
     "data": {
      "image/png": "[encoded data removed]",
      "text/plain": [
       "<matplotlib.figure.Figure at 0x11a779d68>"
      ]
     },
     "metadata": {},
     "output_type": "display_data"
    }
   ],
   "source": [
    "# Hint: You need to specify the x data and the y data for the bar graph\n",
    "plt.bar(year, ace_index, width = 1, color = \"magenta\")\n",
    "plt.title(\"Annual Accumulated cyclone energy\")\n",
    "plt.ylabel(\"Year\")\n",
    "plt.xlim(1951, 2015)\n",
    "plt.xticks(range(1951, 2015, 15))\n",
    "plt.savefig(\"Unit2_Day3_TropicalStorms\")\n",
    "plt.show()"
   ]
  },
  {
   "cell_type": "markdown",
   "metadata": {
    "deletable": true,
    "editable": true
   },
   "source": [
    "### Graph 2: Number of hurricanes in the North Atlantic\n",
    "This dataset has records of the total number hurricanes in the North Atlantic, an adjusted number that accounts for the lack of aircraft and satellite observations in early years, and a record of the number of hurricanes reaching the United States."
   ]
  },
  {
   "cell_type": "markdown",
   "metadata": {
    "deletable": true,
    "editable": true
   },
   "source": [
    "Partner 1: Import the data for the second graph from the EPA and create a pandas dataframe. **Remember to use a new variable name!**"
   ]
  },
  {
   "cell_type": "code",
   "execution_count": 30,
   "metadata": {
    "collapsed": true,
    "deletable": true,
    "editable": true
   },
   "outputs": [],
   "source": [
    "df2 = pd.read_csv(\"cyclones_fig-1.csv\")"
   ]
  },
  {
   "cell_type": "markdown",
   "metadata": {
    "deletable": true,
    "editable": true
   },
   "source": [
    "Partner 2: Print out the \"head\" of this dataframe and see what the data looks like:"
   ]
  },
  {
   "cell_type": "code",
   "execution_count": 31,
   "metadata": {
    "collapsed": false,
    "deletable": true,
    "editable": true
   },
   "outputs": [
    {
     "data": {
      "text/html": [
       "<div>\n",
       "<style>\n",
       "    .dataframe thead tr:only-child th {\n",
       "        text-align: right;\n",
       "    }\n",
       "\n",
       "    .dataframe thead th {\n",
       "        text-align: left;\n",
       "    }\n",
       "\n",
       "    .dataframe tbody tr th {\n",
       "        vertical-align: top;\n",
       "    }\n",
       "</style>\n",
       "<table border=\"1\" class=\"dataframe\">\n",
       "  <thead>\n",
       "    <tr style=\"text-align: right;\">\n",
       "      <th></th>\n",
       "      <th>Year</th>\n",
       "      <th>Total hurricanes (adjusted)</th>\n",
       "      <th>Total hurricanes (unadjusted)</th>\n",
       "      <th>Hurricanes reaching the United States</th>\n",
       "    </tr>\n",
       "  </thead>\n",
       "  <tbody>\n",
       "    <tr>\n",
       "      <th>0</th>\n",
       "      <td>1880</td>\n",
       "      <td>9.63874</td>\n",
       "      <td>6.6</td>\n",
       "      <td>2.6</td>\n",
       "    </tr>\n",
       "    <tr>\n",
       "      <th>1</th>\n",
       "      <td>1881</td>\n",
       "      <td>8.24872</td>\n",
       "      <td>5.2</td>\n",
       "      <td>2.4</td>\n",
       "    </tr>\n",
       "    <tr>\n",
       "      <th>2</th>\n",
       "      <td>1882</td>\n",
       "      <td>7.82772</td>\n",
       "      <td>4.8</td>\n",
       "      <td>1.8</td>\n",
       "    </tr>\n",
       "    <tr>\n",
       "      <th>3</th>\n",
       "      <td>1883</td>\n",
       "      <td>7.23736</td>\n",
       "      <td>4.2</td>\n",
       "      <td>1.2</td>\n",
       "    </tr>\n",
       "    <tr>\n",
       "      <th>4</th>\n",
       "      <td>1884</td>\n",
       "      <td>8.38944</td>\n",
       "      <td>5.4</td>\n",
       "      <td>2.2</td>\n",
       "    </tr>\n",
       "  </tbody>\n",
       "</table>\n",
       "</div>"
      ],
      "text/plain": [
       "   Year  Total hurricanes (adjusted)  Total hurricanes (unadjusted)  \\\n",
       "0  1880                      9.63874                            6.6   \n",
       "1  1881                      8.24872                            5.2   \n",
       "2  1882                      7.82772                            4.8   \n",
       "3  1883                      7.23736                            4.2   \n",
       "4  1884                      8.38944                            5.4   \n",
       "\n",
       "   Hurricanes reaching the United States  \n",
       "0                                    2.6  \n",
       "1                                    2.4  \n",
       "2                                    1.8  \n",
       "3                                    1.2  \n",
       "4                                    2.2  "
      ]
     },
     "execution_count": 31,
     "metadata": {},
     "output_type": "execute_result"
    }
   ],
   "source": [
    "df2.head()"
   ]
  },
  {
   "cell_type": "markdown",
   "metadata": {
    "deletable": true,
    "editable": true
   },
   "source": [
    "Partner 1: Isolate all four columns and assign them to new variables:"
   ]
  },
  {
   "cell_type": "code",
   "execution_count": 32,
   "metadata": {
    "collapsed": false,
    "deletable": true,
    "editable": true
   },
   "outputs": [],
   "source": [
    "year2 = df2[\"Year\"]\n",
    "adjusted = df2[\"Total hurricanes (adjusted)\"]\n",
    "unadjusted = df2[\"Total hurricanes (unadjusted)\"]\n",
    "reaching_us = df2[\"Hurricanes reaching the United States\"]"
   ]
  },
  {
   "cell_type": "markdown",
   "metadata": {
    "deletable": true,
    "editable": true
   },
   "source": [
    "Partner 2: Print out the \"head\" of these columns:"
   ]
  },
  {
   "cell_type": "code",
   "execution_count": 36,
   "metadata": {
    "collapsed": false,
    "deletable": true,
    "editable": true
   },
   "outputs": [
    {
     "name": "stdout",
     "output_type": "stream",
     "text": [
      "<bound method Series.max of 0     1950\n",
      "1     1951\n",
      "2     1952\n",
      "3     1953\n",
      "4     1954\n",
      "5     1955\n",
      "6     1956\n",
      "7     1957\n",
      "8     1958\n",
      "9     1959\n",
      "10    1960\n",
      "11    1961\n",
      "12    1962\n",
      "13    1963\n",
      "14    1964\n",
      "15    1965\n",
      "16    1966\n",
      "17    1967\n",
      "18    1968\n",
      "19    1969\n",
      "20    1970\n",
      "21    1971\n",
      "22    1972\n",
      "23    1973\n",
      "24    1974\n",
      "25    1975\n",
      "26    1976\n",
      "27    1977\n",
      "28    1978\n",
      "29    1979\n",
      "      ... \n",
      "36    1986\n",
      "37    1987\n",
      "38    1988\n",
      "39    1989\n",
      "40    1990\n",
      "41    1991\n",
      "42    1992\n",
      "43    1993\n",
      "44    1994\n",
      "45    1995\n",
      "46    1996\n",
      "47    1997\n",
      "48    1998\n",
      "49    1999\n",
      "50    2000\n",
      "51    2001\n",
      "52    2002\n",
      "53    2003\n",
      "54    2004\n",
      "55    2005\n",
      "56    2006\n",
      "57    2007\n",
      "58    2008\n",
      "59    2009\n",
      "60    2010\n",
      "61    2011\n",
      "62    2012\n",
      "63    2013\n",
      "64    2014\n",
      "65    2015\n",
      "Name: Year, Length: 66, dtype: int64>\n",
      "<bound method Series.min of 0     1950\n",
      "1     1951\n",
      "2     1952\n",
      "3     1953\n",
      "4     1954\n",
      "5     1955\n",
      "6     1956\n",
      "7     1957\n",
      "8     1958\n",
      "9     1959\n",
      "10    1960\n",
      "11    1961\n",
      "12    1962\n",
      "13    1963\n",
      "14    1964\n",
      "15    1965\n",
      "16    1966\n",
      "17    1967\n",
      "18    1968\n",
      "19    1969\n",
      "20    1970\n",
      "21    1971\n",
      "22    1972\n",
      "23    1973\n",
      "24    1974\n",
      "25    1975\n",
      "26    1976\n",
      "27    1977\n",
      "28    1978\n",
      "29    1979\n",
      "      ... \n",
      "36    1986\n",
      "37    1987\n",
      "38    1988\n",
      "39    1989\n",
      "40    1990\n",
      "41    1991\n",
      "42    1992\n",
      "43    1993\n",
      "44    1994\n",
      "45    1995\n",
      "46    1996\n",
      "47    1997\n",
      "48    1998\n",
      "49    1999\n",
      "50    2000\n",
      "51    2001\n",
      "52    2002\n",
      "53    2003\n",
      "54    2004\n",
      "55    2005\n",
      "56    2006\n",
      "57    2007\n",
      "58    2008\n",
      "59    2009\n",
      "60    2010\n",
      "61    2011\n",
      "62    2012\n",
      "63    2013\n",
      "64    2014\n",
      "65    2015\n",
      "Name: Year, Length: 66, dtype: int64>\n",
      "<bound method Series.max of 0       9.63874\n",
      "1       8.24872\n",
      "2       7.82772\n",
      "3       7.23736\n",
      "4       8.38944\n",
      "5       9.72230\n",
      "6      10.20804\n",
      "7      10.43916\n",
      "8       9.49582\n",
      "9       8.84482\n",
      "10      7.58900\n",
      "11      8.34330\n",
      "12      8.21306\n",
      "13      8.23152\n",
      "14      7.97938\n",
      "15      7.53560\n",
      "16      6.46862\n",
      "17      6.43264\n",
      "18      6.62844\n",
      "19      6.66464\n",
      "20      6.67938\n",
      "21      7.14486\n",
      "22      6.87034\n",
      "23      6.33056\n",
      "24      6.19772\n",
      "25      5.47598\n",
      "26      5.13668\n",
      "27      5.45910\n",
      "28      5.81044\n",
      "29      5.15556\n",
      "         ...   \n",
      "104     4.20000\n",
      "105     4.40000\n",
      "106     4.80000\n",
      "107     5.20000\n",
      "108     5.40000\n",
      "109     5.40000\n",
      "110     5.60000\n",
      "111     5.40000\n",
      "112     4.60000\n",
      "113     5.20000\n",
      "114     6.20000\n",
      "115     6.00000\n",
      "116     7.20000\n",
      "117     8.20000\n",
      "118     7.60000\n",
      "119     7.60000\n",
      "120     7.80000\n",
      "121     7.20000\n",
      "122     7.40000\n",
      "123     8.80000\n",
      "124     8.00000\n",
      "125     8.40000\n",
      "126     8.60000\n",
      "127     7.40000\n",
      "128     6.80000\n",
      "129     7.20000\n",
      "130     8.00000\n",
      "131     6.80000\n",
      "132     7.40000\n",
      "133     5.80000\n",
      "Name: Total hurricanes (adjusted), Length: 134, dtype: float64>\n",
      "<bound method Series.min of 0       9.63874\n",
      "1       8.24872\n",
      "2       7.82772\n",
      "3       7.23736\n",
      "4       8.38944\n",
      "5       9.72230\n",
      "6      10.20804\n",
      "7      10.43916\n",
      "8       9.49582\n",
      "9       8.84482\n",
      "10      7.58900\n",
      "11      8.34330\n",
      "12      8.21306\n",
      "13      8.23152\n",
      "14      7.97938\n",
      "15      7.53560\n",
      "16      6.46862\n",
      "17      6.43264\n",
      "18      6.62844\n",
      "19      6.66464\n",
      "20      6.67938\n",
      "21      7.14486\n",
      "22      6.87034\n",
      "23      6.33056\n",
      "24      6.19772\n",
      "25      5.47598\n",
      "26      5.13668\n",
      "27      5.45910\n",
      "28      5.81044\n",
      "29      5.15556\n",
      "         ...   \n",
      "104     4.20000\n",
      "105     4.40000\n",
      "106     4.80000\n",
      "107     5.20000\n",
      "108     5.40000\n",
      "109     5.40000\n",
      "110     5.60000\n",
      "111     5.40000\n",
      "112     4.60000\n",
      "113     5.20000\n",
      "114     6.20000\n",
      "115     6.00000\n",
      "116     7.20000\n",
      "117     8.20000\n",
      "118     7.60000\n",
      "119     7.60000\n",
      "120     7.80000\n",
      "121     7.20000\n",
      "122     7.40000\n",
      "123     8.80000\n",
      "124     8.00000\n",
      "125     8.40000\n",
      "126     8.60000\n",
      "127     7.40000\n",
      "128     6.80000\n",
      "129     7.20000\n",
      "130     8.00000\n",
      "131     6.80000\n",
      "132     7.40000\n",
      "133     5.80000\n",
      "Name: Total hurricanes (adjusted), Length: 134, dtype: float64>\n",
      "<bound method Series.max of 0      6.6\n",
      "1      5.2\n",
      "2      4.8\n",
      "3      4.2\n",
      "4      5.4\n",
      "5      6.8\n",
      "6      7.4\n",
      "7      7.8\n",
      "8      7.0\n",
      "9      6.4\n",
      "10     5.2\n",
      "11     6.0\n",
      "12     5.8\n",
      "13     5.8\n",
      "14     5.6\n",
      "15     5.2\n",
      "16     4.2\n",
      "17     4.2\n",
      "18     4.4\n",
      "19     4.4\n",
      "20     4.4\n",
      "21     4.8\n",
      "22     4.6\n",
      "23     4.2\n",
      "24     4.2\n",
      "25     3.6\n",
      "26     3.4\n",
      "27     3.8\n",
      "28     4.2\n",
      "29     3.6\n",
      "      ... \n",
      "104    4.2\n",
      "105    4.4\n",
      "106    4.8\n",
      "107    5.2\n",
      "108    5.4\n",
      "109    5.4\n",
      "110    5.6\n",
      "111    5.4\n",
      "112    4.6\n",
      "113    5.2\n",
      "114    6.2\n",
      "115    6.0\n",
      "116    7.2\n",
      "117    8.2\n",
      "118    7.6\n",
      "119    7.6\n",
      "120    7.8\n",
      "121    7.2\n",
      "122    7.4\n",
      "123    8.8\n",
      "124    8.0\n",
      "125    8.4\n",
      "126    8.6\n",
      "127    7.4\n",
      "128    6.8\n",
      "129    7.2\n",
      "130    8.0\n",
      "131    6.8\n",
      "132    7.4\n",
      "133    5.8\n",
      "Name: Total hurricanes (unadjusted), Length: 134, dtype: float64>\n",
      "<bound method Series.min of 0      6.6\n",
      "1      5.2\n",
      "2      4.8\n",
      "3      4.2\n",
      "4      5.4\n",
      "5      6.8\n",
      "6      7.4\n",
      "7      7.8\n",
      "8      7.0\n",
      "9      6.4\n",
      "10     5.2\n",
      "11     6.0\n",
      "12     5.8\n",
      "13     5.8\n",
      "14     5.6\n",
      "15     5.2\n",
      "16     4.2\n",
      "17     4.2\n",
      "18     4.4\n",
      "19     4.4\n",
      "20     4.4\n",
      "21     4.8\n",
      "22     4.6\n",
      "23     4.2\n",
      "24     4.2\n",
      "25     3.6\n",
      "26     3.4\n",
      "27     3.8\n",
      "28     4.2\n",
      "29     3.6\n",
      "      ... \n",
      "104    4.2\n",
      "105    4.4\n",
      "106    4.8\n",
      "107    5.2\n",
      "108    5.4\n",
      "109    5.4\n",
      "110    5.6\n",
      "111    5.4\n",
      "112    4.6\n",
      "113    5.2\n",
      "114    6.2\n",
      "115    6.0\n",
      "116    7.2\n",
      "117    8.2\n",
      "118    7.6\n",
      "119    7.6\n",
      "120    7.8\n",
      "121    7.2\n",
      "122    7.4\n",
      "123    8.8\n",
      "124    8.0\n",
      "125    8.4\n",
      "126    8.6\n",
      "127    7.4\n",
      "128    6.8\n",
      "129    7.2\n",
      "130    8.0\n",
      "131    6.8\n",
      "132    7.4\n",
      "133    5.8\n",
      "Name: Total hurricanes (unadjusted), Length: 134, dtype: float64>\n",
      "<bound method Series.max of 0      2.6\n",
      "1      2.4\n",
      "2      1.8\n",
      "3      1.2\n",
      "4      2.2\n",
      "5      2.6\n",
      "6      3.0\n",
      "7      3.2\n",
      "8      3.0\n",
      "9      2.0\n",
      "10     1.2\n",
      "11     1.6\n",
      "12     1.8\n",
      "13     2.0\n",
      "14     2.2\n",
      "15     2.4\n",
      "16     2.0\n",
      "17     2.2\n",
      "18     2.2\n",
      "19     2.0\n",
      "20     1.8\n",
      "21     1.6\n",
      "22     1.4\n",
      "23     1.2\n",
      "24     1.6\n",
      "25     1.6\n",
      "26     1.4\n",
      "27     2.0\n",
      "28     2.4\n",
      "29     2.0\n",
      "      ... \n",
      "104    2.0\n",
      "105    2.2\n",
      "106    2.2\n",
      "107    2.6\n",
      "108    1.4\n",
      "109    1.2\n",
      "110    1.2\n",
      "111    1.2\n",
      "112    0.6\n",
      "113    1.0\n",
      "114    1.2\n",
      "115    1.2\n",
      "116    1.6\n",
      "117    2.2\n",
      "118    1.8\n",
      "119    1.4\n",
      "120    1.4\n",
      "121    1.2\n",
      "122    1.8\n",
      "123    3.0\n",
      "124    3.0\n",
      "125    3.0\n",
      "126    3.2\n",
      "127    2.0\n",
      "128    0.8\n",
      "129    1.0\n",
      "130    1.2\n",
      "131    0.6\n",
      "132    0.8\n",
      "133    0.8\n",
      "Name: Hurricanes reaching the United States, Length: 134, dtype: float64>\n",
      "<bound method Series.min of 0      2.6\n",
      "1      2.4\n",
      "2      1.8\n",
      "3      1.2\n",
      "4      2.2\n",
      "5      2.6\n",
      "6      3.0\n",
      "7      3.2\n",
      "8      3.0\n",
      "9      2.0\n",
      "10     1.2\n",
      "11     1.6\n",
      "12     1.8\n",
      "13     2.0\n",
      "14     2.2\n",
      "15     2.4\n",
      "16     2.0\n",
      "17     2.2\n",
      "18     2.2\n",
      "19     2.0\n",
      "20     1.8\n",
      "21     1.6\n",
      "22     1.4\n",
      "23     1.2\n",
      "24     1.6\n",
      "25     1.6\n",
      "26     1.4\n",
      "27     2.0\n",
      "28     2.4\n",
      "29     2.0\n",
      "      ... \n",
      "104    2.0\n",
      "105    2.2\n",
      "106    2.2\n",
      "107    2.6\n",
      "108    1.4\n",
      "109    1.2\n",
      "110    1.2\n",
      "111    1.2\n",
      "112    0.6\n",
      "113    1.0\n",
      "114    1.2\n",
      "115    1.2\n",
      "116    1.6\n",
      "117    2.2\n",
      "118    1.8\n",
      "119    1.4\n",
      "120    1.4\n",
      "121    1.2\n",
      "122    1.8\n",
      "123    3.0\n",
      "124    3.0\n",
      "125    3.0\n",
      "126    3.2\n",
      "127    2.0\n",
      "128    0.8\n",
      "129    1.0\n",
      "130    1.2\n",
      "131    0.6\n",
      "132    0.8\n",
      "133    0.8\n",
      "Name: Hurricanes reaching the United States, Length: 134, dtype: float64>\n"
     ]
    }
   ],
   "source": [
    "#print(year2.head())\n",
    "#print(adjusted.head())\n",
    "#print(unadjusted.head())\n",
    "#print(reaching_us.head())\n",
    "print(year.max)\n",
    "print(year.min)\n",
    "print(adjusted.max)\n",
    "print(adjusted.min)\n",
    "print(unadjusted.max)\n",
    "print(unadjusted.min)\n",
    "print(reaching_us.max)\n",
    "print(reaching_us.min)"
   ]
  },
  {
   "cell_type": "markdown",
   "metadata": {
    "deletable": true,
    "editable": true
   },
   "source": [
    "Partner 1: Use the matplotlib plt.plot() function to make a line graph with this data."
   ]
  },
  {
   "cell_type": "code",
   "execution_count": 39,
   "metadata": {
    "collapsed": false,
    "deletable": true,
    "editable": true
   },
   "outputs": [
    {
     "data": {
      "image/png": "[encoded data removed]",
      "text/plain": [
       "<matplotlib.figure.Figure at 0x11e2584e0>"
      ]
     },
     "metadata": {},
     "output_type": "display_data"
    }
   ],
   "source": [
    "# Hint: You can create three different lines and then just use one plt.show() to put all three lines on the same graph.\n",
    "plt.plot(year2, adjusted, color = \"deeppink\")\n",
    "plt.title(\"Total Number Hurricanes in the North Atlantic\")\n",
    "plt.ylabel(\"Year\")\n",
    "plt.xlim(1951, 2015)\n",
    "plt.plot(year2, unadjusted, color = \"orange\")\n",
    "plt.plot(year2, reaching_us, color = \"yellow\")\n",
    "plt.xticks(range(1951, 2015, 5))\n",
    "plt.legend()\n",
    "plt.savefig(\"Unit2_Day3_TropicalStorms_2\")\n",
    "plt.show()"
   ]
  },
  {
   "cell_type": "markdown",
   "metadata": {
    "deletable": true,
    "editable": true
   },
   "source": [
    "### Coding Challenge: Power dissipation of North Atlantic tropical cyclone activity and temperature\n",
    "This dataset has a record of sea surface temperature and Power Dissipation Index (PDI), which accounts for cyclone strength, duration, and frequency."
   ]
  },
  {
   "cell_type": "markdown",
   "metadata": {
    "deletable": true,
    "editable": true
   },
   "source": [
    "Work together to import this data as a dataframe, isolate the columns, and create a line graph using matplotlib.pyplot. Try to plot both lines on one graph.\n",
    "\n",
    "Hint: Add the function plt.twinx() (with nothing in the parentheses) in between your two plt.plot() functions."
   ]
  },
  {
   "cell_type": "code",
   "execution_count": 40,
   "metadata": {
    "collapsed": true,
    "deletable": true,
    "editable": true
   },
   "outputs": [],
   "source": [
    "df3 = pd.read_csv(\"cyclones_fig-3.csv\")"
   ]
  },
  {
   "cell_type": "code",
   "execution_count": 41,
   "metadata": {
    "collapsed": false
   },
   "outputs": [
    {
     "data": {
      "text/html": [
       "<div>\n",
       "<style>\n",
       "    .dataframe thead tr:only-child th {\n",
       "        text-align: right;\n",
       "    }\n",
       "\n",
       "    .dataframe thead th {\n",
       "        text-align: left;\n",
       "    }\n",
       "\n",
       "    .dataframe tbody tr th {\n",
       "        vertical-align: top;\n",
       "    }\n",
       "</style>\n",
       "<table border=\"1\" class=\"dataframe\">\n",
       "  <thead>\n",
       "    <tr style=\"text-align: right;\">\n",
       "      <th></th>\n",
       "      <th>Year</th>\n",
       "      <th>Smoothed sea surface temperature</th>\n",
       "      <th>Smoothed Power Dissipation Index</th>\n",
       "    </tr>\n",
       "  </thead>\n",
       "  <tbody>\n",
       "    <tr>\n",
       "      <th>0</th>\n",
       "      <td>1949</td>\n",
       "      <td>NaN</td>\n",
       "      <td>NaN</td>\n",
       "    </tr>\n",
       "    <tr>\n",
       "      <th>1</th>\n",
       "      <td>1950</td>\n",
       "      <td>NaN</td>\n",
       "      <td>NaN</td>\n",
       "    </tr>\n",
       "    <tr>\n",
       "      <th>2</th>\n",
       "      <td>1951</td>\n",
       "      <td>82.10660</td>\n",
       "      <td>2.7846</td>\n",
       "    </tr>\n",
       "    <tr>\n",
       "      <th>3</th>\n",
       "      <td>1952</td>\n",
       "      <td>82.21388</td>\n",
       "      <td>2.3445</td>\n",
       "    </tr>\n",
       "    <tr>\n",
       "      <th>4</th>\n",
       "      <td>1953</td>\n",
       "      <td>82.15412</td>\n",
       "      <td>2.2639</td>\n",
       "    </tr>\n",
       "  </tbody>\n",
       "</table>\n",
       "</div>"
      ],
      "text/plain": [
       "   Year  Smoothed sea surface temperature  Smoothed Power Dissipation Index\n",
       "0  1949                               NaN                               NaN\n",
       "1  1950                               NaN                               NaN\n",
       "2  1951                          82.10660                            2.7846\n",
       "3  1952                          82.21388                            2.3445\n",
       "4  1953                          82.15412                            2.2639"
      ]
     },
     "execution_count": 41,
     "metadata": {},
     "output_type": "execute_result"
    }
   ],
   "source": [
    "df3.head()"
   ]
  },
  {
   "cell_type": "code",
   "execution_count": 44,
   "metadata": {
    "collapsed": true
   },
   "outputs": [],
   "source": [
    "year3 = df3[\"Year\"]\n",
    "smoothedSeaTemp = df3[\"Smoothed sea surface temperature\"]\n",
    "smoothedPowerIndex = df3[\"Smoothed Power Dissipation Index\"]"
   ]
  },
  {
   "cell_type": "code",
   "execution_count": 47,
   "metadata": {
    "collapsed": false
   },
   "outputs": [
    {
     "data": {
      "image/png": "[encoded data removed]",
      "text/plain": [
       "<matplotlib.figure.Figure at 0x11e712898>"
      ]
     },
     "metadata": {},
     "output_type": "display_data"
    }
   ],
   "source": [
    "plt.plot(year3,smoothedSeaTemp, color = \"magenta\")\n",
    "plt.title(\"Power dissipation of North Atlantic tropical cyclone activity and temperature\")\n",
    "plt.ylabel(\"Year\")\n",
    "plt.twinx()\n",
    "plt.xlim(1949, 2015)\n",
    "plt.plot(year3, smoothedPowerIndex, color = \"blue\")\n",
    "plt.xticks(range(1949, 2015, 5))\n",
    "plt.legend()\n",
    "plt.savefig(\"Unit2_Day3_TropicalStorms_3\")\n",
    "plt.show()"
   ]
  },
  {
   "cell_type": "code",
   "execution_count": null,
   "metadata": {
    "collapsed": true
   },
   "outputs": [],
   "source": []
  }
 ],
 "metadata": {
  "kernelspec": {
   "display_name": "Python 3",
   "language": "python",
   "name": "python3"
  },
  "language_info": {
   "codemirror_mode": {
    "name": "ipython",
    "version": 3
   },
   "file_extension": ".py",
   "mimetype": "text/x-python",
   "name": "python",
   "nbconvert_exporter": "python",
   "pygments_lexer": "ipython3",
   "version": "3.5.2"
  }
 },
 "nbformat": 4,
 "nbformat_minor": 2
}
